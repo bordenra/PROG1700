{
 "cells": [
  {
   "cell_type": "code",
   "execution_count": 1,
   "metadata": {
    "dotnet_interactive": {
     "language": "pwsh"
    },
    "polyglot_notebook": {
     "kernelName": "pwsh"
    },
    "vscode": {
     "languageId": "polyglot-notebook"
    }
   },
   "outputs": [
    {
     "name": "stdout",
     "output_type": "stream",
     "text": [
      "False\r\n"
     ]
    }
   ],
   "source": [
    "# a variable can hold a boolean value\n",
    "\n",
    "$BooleanVariable = $true\n",
    "$BooleanVariable = $false\n",
    "$BooleanVariable"
   ]
  },
  {
   "cell_type": "code",
   "execution_count": 3,
   "metadata": {
    "dotnet_interactive": {
     "language": "pwsh"
    },
    "polyglot_notebook": {
     "kernelName": "pwsh"
    },
    "vscode": {
     "languageId": "polyglot-notebook"
    }
   },
   "outputs": [
    {
     "name": "stdout",
     "output_type": "stream",
     "text": [
      "True\r\n"
     ]
    }
   ],
   "source": [
    "# convert an integer to a boolean\n",
    "\n",
    "$IntegerVariable = 1\n",
    "$BooleanVariable = [bool]$IntegerVariable\n",
    "$BooleanVariable"
   ]
  },
  {
   "cell_type": "code",
   "execution_count": 5,
   "metadata": {
    "dotnet_interactive": {
     "language": "pwsh"
    },
    "polyglot_notebook": {
     "kernelName": "pwsh"
    },
    "vscode": {
     "languageId": "polyglot-notebook"
    }
   },
   "outputs": [
    {
     "name": "stdout",
     "output_type": "stream",
     "text": [
      "True\r\n"
     ]
    }
   ],
   "source": [
    "# convert a decimal to a boolean\n",
    "\n",
    "$DecimalVariable = 0.1\n",
    "$BooleanVariable = [bool]$DecimalVariable\n",
    "$BooleanVariable"
   ]
  },
  {
   "cell_type": "code",
   "execution_count": 8,
   "metadata": {
    "dotnet_interactive": {
     "language": "pwsh"
    },
    "polyglot_notebook": {
     "kernelName": "pwsh"
    },
    "vscode": {
     "languageId": "polyglot-notebook"
    }
   },
   "outputs": [
    {
     "name": "stdout",
     "output_type": "stream",
     "text": [
      "True\r\n"
     ]
    }
   ],
   "source": [
    "# convert a string to a boolean\n",
    "\n",
    "$StringVariable = \"a\"\n",
    "$BooleanVariable = [bool]$StringVariable\n",
    "$BooleanVariable"
   ]
  },
  {
   "cell_type": "code",
   "execution_count": 3,
   "metadata": {
    "dotnet_interactive": {
     "language": "pwsh"
    },
    "polyglot_notebook": {
     "kernelName": "pwsh"
    },
    "vscode": {
     "languageId": "polyglot-notebook"
    }
   },
   "outputs": [
    {
     "name": "stdout",
     "output_type": "stream",
     "text": [
      "True\r\n"
     ]
    }
   ],
   "source": [
    "# convert the words \"true or \"false\" to a boolean\n",
    "\n",
    "$TrueStringVariable = \"true\"\n",
    "$FalseStringVariable = \"false\"\n",
    "$BooleanVariable = [bool]::Parse($TrueStringVariable)\n",
    "$BooleanVariable"
   ]
  },
  {
   "cell_type": "code",
   "execution_count": 3,
   "metadata": {
    "dotnet_interactive": {
     "language": "pwsh"
    },
    "polyglot_notebook": {
     "kernelName": "pwsh"
    },
    "vscode": {
     "languageId": "polyglot-notebook"
    }
   },
   "outputs": [
    {
     "name": "stdout",
     "output_type": "stream",
     "text": [
      "False\n",
      "True\n",
      "False\n",
      "True\n",
      "False\n"
     ]
    }
   ],
   "source": [
    "# basic comparison\n",
    "# operators \"-eq\" equals \"-lt\" less than \"-gt\" greater than \"-le\" less than or equal to \"-ge\" greater than or equal to\n",
    "\n",
    "1 -eq 5\n",
    "1 -lt 5\n",
    "1 -gt 5\n",
    "1 -le 5\n",
    "1 -ge 5"
   ]
  },
  {
   "cell_type": "code",
   "execution_count": 4,
   "metadata": {
    "dotnet_interactive": {
     "language": "pwsh"
    },
    "polyglot_notebook": {
     "kernelName": "pwsh"
    },
    "vscode": {
     "languageId": "polyglot-notebook"
    }
   },
   "outputs": [
    {
     "name": "stdout",
     "output_type": "stream",
     "text": [
      "True\n",
      "True\n"
     ]
    }
   ],
   "source": [
    "# basic variable comparison\n",
    "\n",
    "$NumberOfUsers = 5\n",
    "$NumberOfUsers -lt 10\n",
    "$NumberOfUsers -gt 0"
   ]
  },
  {
   "cell_type": "code",
   "execution_count": 6,
   "metadata": {
    "dotnet_interactive": {
     "language": "pwsh"
    },
    "polyglot_notebook": {
     "kernelName": "pwsh"
    },
    "vscode": {
     "languageId": "polyglot-notebook"
    }
   },
   "outputs": [
    {
     "name": "stdout",
     "output_type": "stream",
     "text": [
      "True\r\n"
     ]
    }
   ],
   "source": [
    "# decimal comparison\n",
    "\n",
    "1.2 -lt 10.3"
   ]
  },
  {
   "cell_type": "code",
   "execution_count": 10,
   "metadata": {
    "dotnet_interactive": {
     "language": "pwsh"
    },
    "polyglot_notebook": {
     "kernelName": "pwsh"
    },
    "vscode": {
     "languageId": "polyglot-notebook"
    }
   },
   "outputs": [
    {
     "name": "stdout",
     "output_type": "stream",
     "text": [
      "0.316227766016838\n",
      "0.3\n",
      "False\n"
     ]
    }
   ],
   "source": [
    "#decimals are inaccurate\n",
    "#do not compare decimals\n",
    "\n",
    "[Math]::Sqrt(0.1)\n",
    "$a = 0.1\n",
    "$b = 0.2\n",
    "$a + $b\n",
    "($a + $b) -eq 0.3"
   ]
  },
  {
   "cell_type": "code",
   "execution_count": 13,
   "metadata": {
    "dotnet_interactive": {
     "language": "pwsh"
    },
    "polyglot_notebook": {
     "kernelName": "pwsh"
    },
    "vscode": {
     "languageId": "polyglot-notebook"
    }
   },
   "outputs": [
    {
     "name": "stdout",
     "output_type": "stream",
     "text": [
      "True\n",
      "False\n"
     ]
    }
   ],
   "source": [
    "#comparing strings\n",
    "\"hello\" -eq \"hello\"\n",
    "$UserInput = \"Password\"\n",
    "$UserInput -eq \"ballsack\""
   ]
  },
  {
   "cell_type": "code",
   "execution_count": 17,
   "metadata": {
    "dotnet_interactive": {
     "language": "pwsh"
    },
    "polyglot_notebook": {
     "kernelName": "pwsh"
    },
    "vscode": {
     "languageId": "polyglot-notebook"
    }
   },
   "outputs": [
    {
     "name": "stdout",
     "output_type": "stream",
     "text": [
      "65\n",
      "97\n"
     ]
    }
   ],
   "source": [
    "[byte][char]\"A\"\n",
    "[byte][char]\"a\""
   ]
  },
  {
   "cell_type": "code",
   "execution_count": 20,
   "metadata": {
    "dotnet_interactive": {
     "language": "pwsh"
    },
    "polyglot_notebook": {
     "kernelName": "pwsh"
    },
    "vscode": {
     "languageId": "polyglot-notebook"
    }
   },
   "outputs": [
    {
     "name": "stdout",
     "output_type": "stream",
     "text": [
      "\n",
      "    Directory: Z:\\Projects\\Decisions\n",
      "\n",
      "\u001b[32;1mMode                 LastWriteTime         Length Name\u001b[0m\n",
      "\u001b[32;1m----                 -------------         ------ ----\u001b[0m\n",
      "-a---           10/4/2023  9:01 AM           3270 Decisions.ipynb\n",
      "-a---           10/4/2023  9:01 AM           3270 Decisions.ipynb\n",
      "-a---           10/4/2023  9:01 AM           3270 Decisions.ipynb\n",
      "\n"
     ]
    }
   ],
   "source": [
    "#wildcards\n",
    "\n",
    "#Showing all files beginning with \"D\"\n",
    "Get-ChildItem \"D*\"\n",
    "\n",
    "#Showing all files with the extension pynb, with the ? meaning any value\n",
    "Get-ChildItem \"*.?pynb\"\n",
    "\n",
    "#Checking if the file name contains \"io\" - if not, still brings up results for the rest of the word, and results can contain any file extension\n",
    "Get-ChildItem \"Dec[io]sions.*\""
   ]
  },
  {
   "cell_type": "code",
   "execution_count": 21,
   "metadata": {
    "dotnet_interactive": {
     "language": "pwsh"
    },
    "polyglot_notebook": {
     "kernelName": "pwsh"
    },
    "vscode": {
     "languageId": "polyglot-notebook"
    }
   },
   "outputs": [
    {
     "name": "stdout",
     "output_type": "stream",
     "text": [
      "Cats are definitely less than dogs...\r\n"
     ]
    }
   ],
   "source": [
    "#basic if statement\n",
    "\n",
    "#the strings are compared alphabetically, so the letters in cat come before the letters in dog, therefor it's less\n",
    "if (\"cat\" -lt \"dog\") {\n",
    "    Write-Host \"Cats are definitely less than dogs...\"\n",
    "}"
   ]
  },
  {
   "cell_type": "code",
   "execution_count": 22,
   "metadata": {
    "dotnet_interactive": {
     "language": "pwsh"
    },
    "polyglot_notebook": {
     "kernelName": "pwsh"
    },
    "vscode": {
     "languageId": "polyglot-notebook"
    }
   },
   "outputs": [
    {
     "name": "stdout",
     "output_type": "stream",
     "text": [
      "License are still valid\r\n"
     ]
    }
   ],
   "source": [
    "$NumberOfUsers = 10\n",
    "if ($NumberOfUsers-lt 100) {\n",
    "    Write-Host \"License are still valid\"\n",
    "}"
   ]
  },
  {
   "cell_type": "code",
   "execution_count": 23,
   "metadata": {
    "dotnet_interactive": {
     "language": "pwsh"
    },
    "polyglot_notebook": {
     "kernelName": "pwsh"
    },
    "vscode": {
     "languageId": "polyglot-notebook"
    }
   },
   "outputs": [
    {
     "name": "stdout",
     "output_type": "stream",
     "text": [
      "Right hook\r\n"
     ]
    }
   ],
   "source": [
    "if ($boolean = [bool]1) {\n",
    "    Write-Host \"hello\"\n",
    "}"
   ]
  },
  {
   "cell_type": "code",
   "execution_count": 2,
   "metadata": {
    "dotnet_interactive": {
     "language": "pwsh"
    },
    "polyglot_notebook": {
     "kernelName": "pwsh"
    },
    "vscode": {
     "languageId": "polyglot-notebook"
    }
   },
   "outputs": [],
   "source": [
    "#Simple false comparison\n",
    "$Today = \"Thursday\"\n",
    "if ($Today -eq \"Friday\") {\n",
    "    Write-Host \"Happy long weekend\"\n",
    "}\n",
    "if (-not $Today) {\n",
    "    Write-Host \"You still have to work\"\n",
    "}\n"
   ]
  },
  {
   "cell_type": "code",
   "execution_count": 4,
   "metadata": {
    "dotnet_interactive": {
     "language": "pwsh"
    },
    "polyglot_notebook": {
     "kernelName": "pwsh"
    },
    "vscode": {
     "languageId": "polyglot-notebook"
    }
   },
   "outputs": [
    {
     "name": "stdout",
     "output_type": "stream",
     "text": [
      "Ham for you!\r\n"
     ]
    }
   ],
   "source": [
    "#Else statement\n",
    "$ILikeTurkey = $false\n",
    "if ($ILikeTurkey) {\n",
    "    Write-Host \"Turkey it is!\"\n",
    "} else {\n",
    "    Write-Host \"Ham for you!\"\n",
    "}"
   ]
  },
  {
   "cell_type": "code",
   "execution_count": 8,
   "metadata": {
    "dotnet_interactive": {
     "language": "pwsh"
    },
    "polyglot_notebook": {
     "kernelName": "pwsh"
    },
    "vscode": {
     "languageId": "polyglot-notebook"
    }
   },
   "outputs": [
    {
     "name": "stdout",
     "output_type": "stream",
     "text": [
      "YOU SHALL DIE A PEASANT'S DEATH!!!\r\n"
     ]
    }
   ],
   "source": [
    "#Elseif statement\n",
    "$FavoritePie = Read-Host \"Which kind of pie? Apple or Pumpkin?\"\n",
    "if ($FavoritePie -eq \"Pumpkin\") {\n",
    "    Write-Host \"Need to buy small pumpkins!\"\n",
    "} elseif ($FavoritePie -eq \"Apple\") {\n",
    "    Write-Host \"A bag of apples is what I need!\"\n",
    "} else {\n",
    "    Write-Host \"YOU SHALL DIE A PEASANT'S DEATH!!!\"\n",
    "}"
   ]
  },
  {
   "cell_type": "code",
   "execution_count": null,
   "metadata": {
    "dotnet_interactive": {
     "language": "pwsh"
    },
    "polyglot_notebook": {
     "kernelName": "pwsh"
    },
    "vscode": {
     "languageId": "polyglot-notebook"
    }
   },
   "outputs": [],
   "source": [
    "#Nested if statement\n",
    "$BestThanksgivingCondiment = \"Cranberry Sauce\"\n",
    "$ThanksgivingMeal = \"Turkey\"\n",
    "if ($BestThanksgivingCondiment - eq \"Cranberry Sauce\") {\n",
    "    if ($ThanksgivingMeal -eq \"Turkey\") {\n",
    "        Write-Host \"Need some cranberry sauce.\"\n",
    "    }\n",
    "}"
   ]
  },
  {
   "cell_type": "code",
   "execution_count": null,
   "metadata": {
    "dotnet_interactive": {
     "language": "pwsh"
    },
    "polyglot_notebook": {
     "kernelName": "pwsh"
    },
    "vscode": {
     "languageId": "polyglot-notebook"
    }
   },
   "outputs": [],
   "source": [
    "#Compound if statement\n",
    "$Condiment = \"Cranberry Sauce\"\n",
    "$Meal = \"Turkey\"\n",
    "if ($Condiment -eq \"Cranberry Sauce\" -and $Meal = \"Turkey\") {\n",
    "    Write-Host \"Happy thanksgiving\"\n",
    "}"
   ]
  },
  {
   "cell_type": "code",
   "execution_count": 12,
   "metadata": {
    "dotnet_interactive": {
     "language": "pwsh"
    },
    "polyglot_notebook": {
     "kernelName": "pwsh"
    },
    "vscode": {
     "languageId": "polyglot-notebook"
    }
   },
   "outputs": [
    {
     "name": "stdout",
     "output_type": "stream",
     "text": [
      "Sushi time\r\n"
     ]
    }
   ],
   "source": [
    "#Bigger nested if statements\n",
    "$IHaveInLaws = $false\n",
    "if ($IHaveInLaws) {\n",
    "    Write-Host \"A big Thanksgiving meal is needed...\"\n",
    "    $InLawsMealChoice = \"Turkey\"\n",
    "    if ($InLawsMealChoice -eq \"Turkey\") {\n",
    "        Write-Host \"Buy ham.\"\n",
    "    } else {\n",
    "        Write-Host \"Buy turkey!\"\n",
    "    }\n",
    "} else {\n",
    "    Write-Host \"Sushi time\"\n",
    "}"
   ]
  },
  {
   "cell_type": "code",
   "execution_count": 16,
   "metadata": {
    "dotnet_interactive": {
     "language": "pwsh"
    },
    "polyglot_notebook": {
     "kernelName": "pwsh"
    },
    "vscode": {
     "languageId": "polyglot-notebook"
    }
   },
   "outputs": [
    {
     "name": "stdout",
     "output_type": "stream",
     "text": [
      "Sushi time.\r\n"
     ]
    }
   ],
   "source": [
    "#Larger compound if statements\n",
    "$IHaveInLaws = $false\n",
    "$InLawsMealChoice = \"Turkey\"\n",
    "$MyFavoriteMeal = \"Not turkey\"\n",
    "if ($IHaveInLaws -and $InLawsMealChoice -eq \"Turkey\") {\n",
    "    Write-Host \"Buy ham.\"\n",
    "} elseif ($IHaveInLaws -or $MyFavoriteMeal -eq \"Turkey\") {\n",
    "    Write-Host \"Turkey time.\"\n",
    "} else {\n",
    "    Write-Host \"Sushi time.\"\n",
    "}"
   ]
  },
  {
   "cell_type": "code",
   "execution_count": 22,
   "metadata": {
    "dotnet_interactive": {
     "language": "pwsh"
    },
    "polyglot_notebook": {
     "kernelName": "pwsh"
    },
    "vscode": {
     "languageId": "polyglot-notebook"
    }
   },
   "outputs": [
    {
     "name": "stdout",
     "output_type": "stream",
     "text": [
      "purple\r\n"
     ]
    }
   ],
   "source": [
    "#Bigger example of compound if statements\n",
    "\n",
    "$Color1 = Read-Host \"Enter a color.\"\n",
    "$Color2 = Read-Host \"Enter a color from another mother\"\n",
    "\n",
    "if ((($Color1 -eq \"red\") -and ($Color2 -eq \"blue\")) -or\n",
    "    (($Color1 -eq \"blue\") -and ($Color2 -eq \"red\"))) {\n",
    "    Write-Host \"purple\"\n",
    "}\n"
   ]
  },
  {
   "cell_type": "code",
   "execution_count": null,
   "metadata": {
    "dotnet_interactive": {
     "language": "pwsh"
    },
    "polyglot_notebook": {
     "kernelName": "pwsh"
    },
    "vscode": {
     "languageId": "polyglot-notebook"
    }
   },
   "outputs": [],
   "source": [
    "#Prioritize the colors by alphabetical order\n",
    "if ($Color1 -gt $Color2) {\n",
    "    $Temp = $Color1\n",
    "    $Color1 = $Color2\n",
    "    $Color2 = $Temp\n",
    "}"
   ]
  },
  {
   "cell_type": "code",
   "execution_count": 1,
   "metadata": {
    "dotnet_interactive": {
     "language": "pwsh"
    },
    "polyglot_notebook": {
     "kernelName": "pwsh"
    },
    "vscode": {
     "languageId": "polyglot-notebook"
    }
   },
   "outputs": [
    {
     "name": "stdout",
     "output_type": "stream",
     "text": [
      "0\n",
      "1\n",
      "2\n",
      "3\n",
      "4\n",
      "5\n"
     ]
    }
   ],
   "source": [
    "#Loops\n",
    "\n",
    "$Counter = 0\n",
    "\n",
    "while ($Counter -le 5) {\n",
    "    Write-Host $Counter\n",
    "    #$Counter = $Counter + 1\n",
    "    #$Counter += 1\n",
    "    $Counter++\n",
    "}"
   ]
  },
  {
   "cell_type": "code",
   "execution_count": 1,
   "metadata": {
    "dotnet_interactive": {
     "language": "pwsh"
    },
    "polyglot_notebook": {
     "kernelName": "pwsh"
    },
    "vscode": {
     "languageId": "polyglot-notebook"
    }
   },
   "outputs": [
    {
     "name": "stdout",
     "output_type": "stream",
     "text": [
      "Type the word exit.\n",
      "Type the word exit.\n",
      "Type the word exit.\n",
      "Type the word exit.\n",
      "Bye.\n"
     ]
    }
   ],
   "source": [
    "#While based on strings\n",
    "\n",
    "$UserInput\n",
    "while ($UserInput -ne \"Exit\") {\n",
    "    $UserInput = Read-Host \"Type some shit\"\n",
    "    Write-Host \".\"\n",
    "}"
   ]
  },
  {
   "cell_type": "code",
   "execution_count": null,
   "metadata": {
    "dotnet_interactive": {
     "language": "pwsh"
    },
    "polyglot_notebook": {
     "kernelName": "pwsh"
    },
    "vscode": {
     "languageId": "polyglot-notebook"
    }
   },
   "outputs": [],
   "source": [
    "#Compound decision in a loop\n",
    "\n",
    "$Counter1 = 1\n",
    "$Counter2 = 10\n",
    "while ($Counter1 -lt 5 -and $Counter2 -gt 5) {\n",
    "    Write-Host \"Counter1: $Counter1, Counter2: $Counter2\"\n",
    "    $Counter1++\n",
    "    $Counter2--\n",
    "}\n"
   ]
  },
  {
   "cell_type": "code",
   "execution_count": null,
   "metadata": {
    "dotnet_interactive": {
     "language": "pwsh"
    },
    "polyglot_notebook": {
     "kernelName": "pwsh"
    },
    "vscode": {
     "languageId": "polyglot-notebook"
    }
   },
   "outputs": [],
   "source": [
    "#More examples\n",
    "\n",
    "$UserInput\n",
    "$Count = 0\n",
    "while ($UserInput -ne \"Password\" -and $Count -lt 3) {\n",
    "    $UserInput = Read-Host \"Enter your password.\"\n",
    "    $Count++\n",
    "}\n",
    "if ($UserInput -eq \"Password\") {\n",
    "    Write-Host \"Welcome to Phantasy Star Online\"\n",
    "} else {\n",
    "    Write-Host \"Invalid password.\"\n",
    "}\n"
   ]
  },
  {
   "cell_type": "code",
   "execution_count": null,
   "metadata": {
    "dotnet_interactive": {
     "language": "pwsh"
    },
    "polyglot_notebook": {
     "kernelName": "pwsh"
    },
    "vscode": {
     "languageId": "polyglot-notebook"
    }
   },
   "outputs": [],
   "source": [
    "#Do until - based on strings\n",
    "\n",
    "$UserInput\n",
    "\n",
    "do {\n",
    "    $UserInput = Read-Host \"Enter your password.\"\n",
    "} until ($UserInput -eq \"Password\")\n",
    "\n",
    "Write-Host \"Welcome to RuneScape.\""
   ]
  },
  {
   "cell_type": "code",
   "execution_count": 1,
   "metadata": {
    "dotnet_interactive": {
     "language": "pwsh"
    },
    "polyglot_notebook": {
     "kernelName": "pwsh"
    },
    "vscode": {
     "languageId": "polyglot-notebook"
    }
   },
   "outputs": [
    {
     "name": "stdout",
     "output_type": "stream",
     "text": [
      "0\n",
      "1\n",
      "2\n",
      "3\n",
      "4\n",
      "5\n"
     ]
    }
   ],
   "source": [
    "#Basic for loop\n",
    "\n",
    "for ($Counter = 0; $Counter -le 5; $Counter++) {\n",
    "    Write-Host $Counter\n",
    "}"
   ]
  },
  {
   "cell_type": "code",
   "execution_count": null,
   "metadata": {
    "dotnet_interactive": {
     "language": "pwsh"
    },
    "polyglot_notebook": {
     "kernelName": "pwsh"
    },
    "vscode": {
     "languageId": "polyglot-notebook"
    }
   },
   "outputs": [],
   "source": []
  }
 ],
 "metadata": {
  "language_info": {
   "name": "python"
  }
 },
 "nbformat": 4,
 "nbformat_minor": 2
}
