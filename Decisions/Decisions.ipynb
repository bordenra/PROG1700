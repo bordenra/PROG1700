{
 "cells": [
  {
   "cell_type": "code",
   "execution_count": 1,
   "metadata": {
    "dotnet_interactive": {
     "language": "pwsh"
    },
    "polyglot_notebook": {
     "kernelName": "pwsh"
    },
    "vscode": {
     "languageId": "polyglot-notebook"
    }
   },
   "outputs": [
    {
     "name": "stdout",
     "output_type": "stream",
     "text": [
      "False\r\n"
     ]
    }
   ],
   "source": [
    "# a variable can hold a boolean value\n",
    "\n",
    "$BooleanVariable = $true\n",
    "$BooleanVariable = $false\n",
    "$BooleanVariable"
   ]
  },
  {
   "cell_type": "code",
   "execution_count": 3,
   "metadata": {
    "dotnet_interactive": {
     "language": "pwsh"
    },
    "polyglot_notebook": {
     "kernelName": "pwsh"
    },
    "vscode": {
     "languageId": "polyglot-notebook"
    }
   },
   "outputs": [
    {
     "name": "stdout",
     "output_type": "stream",
     "text": [
      "True\r\n"
     ]
    }
   ],
   "source": [
    "# convert an integer to a boolean\n",
    "\n",
    "$IntegerVariable = 1\n",
    "$BooleanVariable = [bool]$IntegerVariable\n",
    "$BooleanVariable"
   ]
  },
  {
   "cell_type": "code",
   "execution_count": 5,
   "metadata": {
    "dotnet_interactive": {
     "language": "pwsh"
    },
    "polyglot_notebook": {
     "kernelName": "pwsh"
    },
    "vscode": {
     "languageId": "polyglot-notebook"
    }
   },
   "outputs": [
    {
     "name": "stdout",
     "output_type": "stream",
     "text": [
      "True\r\n"
     ]
    }
   ],
   "source": [
    "# convert a decimal to a boolean\n",
    "\n",
    "$DecimalVariable = 0.1\n",
    "$BooleanVariable = [bool]$DecimalVariable\n",
    "$BooleanVariable"
   ]
  },
  {
   "cell_type": "code",
   "execution_count": 8,
   "metadata": {
    "dotnet_interactive": {
     "language": "pwsh"
    },
    "polyglot_notebook": {
     "kernelName": "pwsh"
    },
    "vscode": {
     "languageId": "polyglot-notebook"
    }
   },
   "outputs": [
    {
     "name": "stdout",
     "output_type": "stream",
     "text": [
      "True\r\n"
     ]
    }
   ],
   "source": [
    "# convert a string to a boolean\n",
    "\n",
    "$StringVariable = \"a\"\n",
    "$BooleanVariable = [bool]$StringVariable\n",
    "$BooleanVariable"
   ]
  },
  {
   "cell_type": "code",
   "execution_count": 3,
   "metadata": {
    "dotnet_interactive": {
     "language": "pwsh"
    },
    "polyglot_notebook": {
     "kernelName": "pwsh"
    },
    "vscode": {
     "languageId": "polyglot-notebook"
    }
   },
   "outputs": [
    {
     "name": "stdout",
     "output_type": "stream",
     "text": [
      "True\r\n"
     ]
    }
   ],
   "source": [
    "# convert the words \"true or \"false\" to a boolean\n",
    "\n",
    "$TrueStringVariable = \"true\"\n",
    "$FalseStringVariable = \"false\"\n",
    "$BooleanVariable = [bool]::Parse($TrueStringVariable)\n",
    "$BooleanVariable"
   ]
  },
  {
   "cell_type": "code",
   "execution_count": 3,
   "metadata": {
    "dotnet_interactive": {
     "language": "pwsh"
    },
    "polyglot_notebook": {
     "kernelName": "pwsh"
    },
    "vscode": {
     "languageId": "polyglot-notebook"
    }
   },
   "outputs": [
    {
     "name": "stdout",
     "output_type": "stream",
     "text": [
      "False\n",
      "True\n",
      "False\n",
      "True\n",
      "False\n"
     ]
    }
   ],
   "source": [
    "# basic comparison\n",
    "# operators \"-eq\" equals \"-lt\" less than \"-gt\" greater than \"-le\" less than or equal to \"-ge\" greater than or equal to\n",
    "\n",
    "1 -eq 5\n",
    "1 -lt 5\n",
    "1 -gt 5\n",
    "1 -le 5\n",
    "1 -ge 5"
   ]
  },
  {
   "cell_type": "code",
   "execution_count": 4,
   "metadata": {
    "dotnet_interactive": {
     "language": "pwsh"
    },
    "polyglot_notebook": {
     "kernelName": "pwsh"
    },
    "vscode": {
     "languageId": "polyglot-notebook"
    }
   },
   "outputs": [
    {
     "name": "stdout",
     "output_type": "stream",
     "text": [
      "True\n",
      "True\n"
     ]
    }
   ],
   "source": [
    "# basic variable comparison\n",
    "\n",
    "$NumberOfUsers = 5\n",
    "$NumberOfUsers -lt 10\n",
    "$NumberOfUsers -gt 0"
   ]
  },
  {
   "cell_type": "code",
   "execution_count": 6,
   "metadata": {
    "dotnet_interactive": {
     "language": "pwsh"
    },
    "polyglot_notebook": {
     "kernelName": "pwsh"
    },
    "vscode": {
     "languageId": "polyglot-notebook"
    }
   },
   "outputs": [
    {
     "name": "stdout",
     "output_type": "stream",
     "text": [
      "True\r\n"
     ]
    }
   ],
   "source": [
    "# decimal comparison\n",
    "\n",
    "1.2 -lt 10.3"
   ]
  },
  {
   "cell_type": "code",
   "execution_count": 10,
   "metadata": {
    "dotnet_interactive": {
     "language": "pwsh"
    },
    "polyglot_notebook": {
     "kernelName": "pwsh"
    },
    "vscode": {
     "languageId": "polyglot-notebook"
    }
   },
   "outputs": [
    {
     "name": "stdout",
     "output_type": "stream",
     "text": [
      "0.316227766016838\n",
      "0.3\n",
      "False\n"
     ]
    }
   ],
   "source": [
    "#decimals are inaccurate\n",
    "#do not compare decimals\n",
    "\n",
    "[Math]::Sqrt(0.1)\n",
    "$a = 0.1\n",
    "$b = 0.2\n",
    "$a + $b\n",
    "($a + $b) -eq 0.3"
   ]
  },
  {
   "cell_type": "code",
   "execution_count": 13,
   "metadata": {
    "dotnet_interactive": {
     "language": "pwsh"
    },
    "polyglot_notebook": {
     "kernelName": "pwsh"
    },
    "vscode": {
     "languageId": "polyglot-notebook"
    }
   },
   "outputs": [
    {
     "name": "stdout",
     "output_type": "stream",
     "text": [
      "True\n",
      "False\n"
     ]
    }
   ],
   "source": [
    "#comparing strings\n",
    "\"hello\" -eq \"hello\"\n",
    "$UserInput = \"Password\"\n",
    "$UserInput -eq \"ballsack\""
   ]
  },
  {
   "cell_type": "code",
   "execution_count": 17,
   "metadata": {
    "dotnet_interactive": {
     "language": "pwsh"
    },
    "polyglot_notebook": {
     "kernelName": "pwsh"
    },
    "vscode": {
     "languageId": "polyglot-notebook"
    }
   },
   "outputs": [
    {
     "name": "stdout",
     "output_type": "stream",
     "text": [
      "65\n",
      "97\n"
     ]
    }
   ],
   "source": [
    "[byte][char]\"A\"\n",
    "[byte][char]\"a\""
   ]
  },
  {
   "cell_type": "code",
   "execution_count": 20,
   "metadata": {
    "dotnet_interactive": {
     "language": "pwsh"
    },
    "polyglot_notebook": {
     "kernelName": "pwsh"
    },
    "vscode": {
     "languageId": "polyglot-notebook"
    }
   },
   "outputs": [
    {
     "name": "stdout",
     "output_type": "stream",
     "text": [
      "\n",
      "    Directory: Z:\\Projects\\Decisions\n",
      "\n",
      "\u001b[32;1mMode                 LastWriteTime         Length Name\u001b[0m\n",
      "\u001b[32;1m----                 -------------         ------ ----\u001b[0m\n",
      "-a---           10/4/2023  9:01 AM           3270 Decisions.ipynb\n",
      "-a---           10/4/2023  9:01 AM           3270 Decisions.ipynb\n",
      "-a---           10/4/2023  9:01 AM           3270 Decisions.ipynb\n",
      "\n"
     ]
    }
   ],
   "source": [
    "#wildcards\n",
    "\n",
    "#Showing all files beginning with \"D\"\n",
    "Get-ChildItem \"D*\"\n",
    "\n",
    "#Showing all files with the extension pynb, with the ? meaning any value\n",
    "Get-ChildItem \"*.?pynb\"\n",
    "\n",
    "#Checking if the file name contains \"io\" - if not, still brings up results for the rest of the word, and results can contain any file extension\n",
    "Get-ChildItem \"Dec[io]sions.*\""
   ]
  },
  {
   "cell_type": "code",
   "execution_count": 21,
   "metadata": {
    "dotnet_interactive": {
     "language": "pwsh"
    },
    "polyglot_notebook": {
     "kernelName": "pwsh"
    },
    "vscode": {
     "languageId": "polyglot-notebook"
    }
   },
   "outputs": [
    {
     "name": "stdout",
     "output_type": "stream",
     "text": [
      "Cats are definitely less than dogs...\r\n"
     ]
    }
   ],
   "source": [
    "#basic if statement\n",
    "\n",
    "#the strings are compared alphabetically, so the letters in cat come before the letters in dog, therefor it's less\n",
    "if (\"cat\" -lt \"dog\") {\n",
    "    Write-Host \"Cats are definitely less than dogs...\"\n",
    "}"
   ]
  },
  {
   "cell_type": "code",
   "execution_count": 22,
   "metadata": {
    "dotnet_interactive": {
     "language": "pwsh"
    },
    "polyglot_notebook": {
     "kernelName": "pwsh"
    },
    "vscode": {
     "languageId": "polyglot-notebook"
    }
   },
   "outputs": [
    {
     "name": "stdout",
     "output_type": "stream",
     "text": [
      "License are still valid\r\n"
     ]
    }
   ],
   "source": [
    "$NumberOfUsers = 10\n",
    "if ($NumberOfUsers-lt 100) {\n",
    "    Write-Host \"License are still valid\"\n",
    "}"
   ]
  },
  {
   "cell_type": "code",
   "execution_count": 23,
   "metadata": {
    "dotnet_interactive": {
     "language": "pwsh"
    },
    "polyglot_notebook": {
     "kernelName": "pwsh"
    },
    "vscode": {
     "languageId": "polyglot-notebook"
    }
   },
   "outputs": [
    {
     "name": "stdout",
     "output_type": "stream",
     "text": [
      "Right hook\r\n"
     ]
    }
   ],
   "source": [
    "if ($boolean = [bool]1) {\n",
    "    Write-Host \"Right hook\"\n",
    "}"
   ]
  },
  {
   "cell_type": "code",
   "execution_count": null,
   "metadata": {
    "dotnet_interactive": {
     "language": "pwsh"
    },
    "polyglot_notebook": {
     "kernelName": "pwsh"
    },
    "vscode": {
     "languageId": "polyglot-notebook"
    }
   },
   "outputs": [],
   "source": []
  }
 ],
 "metadata": {
  "language_info": {
   "name": "python"
  }
 },
 "nbformat": 4,
 "nbformat_minor": 2
}
