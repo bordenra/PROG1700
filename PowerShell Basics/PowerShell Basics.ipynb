{
 "cells": [
  {
   "cell_type": "code",
   "execution_count": 2,
   "metadata": {
    "dotnet_interactive": {
     "language": "pwsh"
    },
    "polyglot_notebook": {
     "kernelName": "pwsh"
    },
    "vscode": {
     "languageId": "polyglot-notebook"
    }
   },
   "outputs": [
    {
     "name": "stdout",
     "output_type": "stream",
     "text": [
      "Hello world!\r\n"
     ]
    }
   ],
   "source": [
    "# Any text should be enclosed in quotation marks\n",
    "Write-Host \"Hello world!\""
   ]
  },
  {
   "cell_type": "code",
   "execution_count": 3,
   "metadata": {
    "dotnet_interactive": {
     "language": "pwsh"
    },
    "polyglot_notebook": {
     "kernelName": "pwsh"
    },
    "vscode": {
     "languageId": "polyglot-notebook"
    }
   },
   "outputs": [
    {
     "name": "stdout",
     "output_type": "stream",
     "text": [
      "12345\n",
      "12345\n"
     ]
    }
   ],
   "source": [
    "# Any numbers can be either in quotes or without\n",
    "Write-Host \"12345\"\n",
    "Write-Host 12345"
   ]
  },
  {
   "cell_type": "code",
   "execution_count": 4,
   "metadata": {
    "dotnet_interactive": {
     "language": "pwsh"
    },
    "polyglot_notebook": {
     "kernelName": "pwsh"
    },
    "vscode": {
     "languageId": "polyglot-notebook"
    }
   },
   "outputs": [
    {
     "name": "stdout",
     "output_type": "stream",
     "text": [
      "3\r\n"
     ]
    }
   ],
   "source": [
    "# Add two numbers together\n",
    "Write-Host (1 + 2)"
   ]
  },
  {
   "cell_type": "code",
   "execution_count": 5,
   "metadata": {
    "dotnet_interactive": {
     "language": "pwsh"
    },
    "polyglot_notebook": {
     "kernelName": "pwsh"
    },
    "vscode": {
     "languageId": "polyglot-notebook"
    }
   },
   "outputs": [
    {
     "name": "stdout",
     "output_type": "stream",
     "text": [
      "12\r\n"
     ]
    }
   ],
   "source": [
    "# \"Concatenate\" two numbers together\n",
    "Write-Host (\"1\" + \"2\")"
   ]
  },
  {
   "cell_type": "code",
   "execution_count": 8,
   "metadata": {
    "dotnet_interactive": {
     "language": "pwsh"
    },
    "polyglot_notebook": {
     "kernelName": "pwsh"
    },
    "vscode": {
     "languageId": "polyglot-notebook"
    }
   },
   "outputs": [
    {
     "name": "stdout",
     "output_type": "stream",
     "text": [
      "Street number:  123\n",
      "Street number:  123  Somewhere Ave\n",
      "Street number: 123 Somewhere Ave\n"
     ]
    }
   ],
   "source": [
    "# Combine numbers and text together\n",
    "Write-Host \"Street number: \" 123\n",
    "Write-Host \"Street number: \" 123 \" Somewhere Ave\"\n",
    "Write-Host \"Street number: 123 Somewhere Ave\""
   ]
  },
  {
   "cell_type": "code",
   "execution_count": 9,
   "metadata": {
    "dotnet_interactive": {
     "language": "pwsh"
    },
    "polyglot_notebook": {
     "kernelName": "pwsh"
    },
    "vscode": {
     "languageId": "polyglot-notebook"
    }
   },
   "outputs": [
    {
     "name": "stdout",
     "output_type": "stream",
     "text": [
      "Alf\r\n"
     ]
    }
   ],
   "source": [
    "# Get input from user\n",
    "Read-Host \"Enter your name: \""
   ]
  },
  {
   "cell_type": "code",
   "execution_count": 13,
   "metadata": {
    "dotnet_interactive": {
     "language": "pwsh"
    },
    "polyglot_notebook": {
     "kernelName": "pwsh"
    },
    "vscode": {
     "languageId": "polyglot-notebook"
    }
   },
   "outputs": [],
   "source": [
    "# A simple variable\n",
    "$x = 5\n",
    "$name = Ralph"
   ]
  },
  {
   "cell_type": "code",
   "execution_count": 15,
   "metadata": {
    "dotnet_interactive": {
     "language": "pwsh"
    },
    "polyglot_notebook": {
     "kernelName": "pwsh"
    },
    "vscode": {
     "languageId": "polyglot-notebook"
    }
   },
   "outputs": [
    {
     "name": "stdout",
     "output_type": "stream",
     "text": [
      "\n",
      "\u001b[32;1mName                           Value\u001b[0m\n",
      "\u001b[32;1m----                           -----\u001b[0m\n",
      "?                              True\n",
      "^                              Get-Variable\n",
      "$                              Get-Variable\n",
      "args                           {}\n",
      "ConfirmPreference              High\n",
      "DebugPreference                SilentlyContinue\n",
      "EnabledExperimentalFeatures    {}\n",
      "Error                          {}\n",
      "ErrorActionPreference          Continue\n",
      "ErrorView                      ConciseView\n",
      "ExecutionContext               System.Management.Automation.EngineIntrinsics\n",
      "false                          False\n",
      "FormatEnumerationLimit         4\n",
      "HOME                           C:\\Users\\RBorden\n",
      "Host                           System.Management.Automation.Internal.Host.InternalHost\n",
      "InformationPreference          SilentlyContinue\n",
      "input                          System.Collections.ArrayList+ArrayListEnumeratorSimple\n",
      "IsCoreCLR                      True\n",
      "IsLinux                        False\n",
      "IsMacOS                        False\n",
      "IsWindows                      True\n",
      "MaximumHistoryCount            4096\n",
      "MyInvocation                   System.Management.Automation.InvocationInfo\n",
      "name                           Ralph\n",
      "NestedPromptLevel              0\n",
      "null                           \n",
      "OutputEncoding                 System.Text.UTF8Encoding\n",
      "PID                            10368\n",
      "PROFILE                        C:\\Users\\RBorden\\Documents\\PowerShell\\Microsoft.dotnet-interactive_…\n",
      "ProgressPreference             Continue\n",
      "PSBoundParameters              {}\n",
      "PSCommandPath                  \n",
      "PSCulture                      en\n",
      "PSDefaultParameterValues       {}\n",
      "PSEdition                      Core\n",
      "PSEmailServer                  \n",
      "PSHOME                         C:\\Users\\RBorden\\.nuget\\packages\\microsoft.dotnet-interactive\\1.0.4…\n",
      "PSNativeCommandArgumentPassing Windows\n",
      "PSScriptRoot                   \n",
      "PSSessionApplicationName       wsman\n",
      "PSSessionConfigurationName     http://schemas.microsoft.com/powershell/Microsoft.PowerShell\n",
      "PSSessionOption                System.Management.Automation.Remoting.PSSessionOption\n",
      "PSStyle                        System.Management.Automation.PSStyle\n",
      "PSUICulture                    en\n",
      "PSVersionTable                 {[PSVersion, 7.3.6], [PSEdition, Core], [GitCommitId, 7.3.6], [OS, …\n",
      "PWD                            Z:\\Projects\\PowerShell Basics\n",
      "ShellId                        Microsoft.PowerShell\n",
      "StackTrace                     \n",
      "true                           True\n",
      "VerbosePreference              SilentlyContinue\n",
      "WarningPreference              Continue\n",
      "WhatIfPreference               False\n",
      "x                              5\n",
      "\n"
     ]
    }
   ],
   "source": [
    "# List all variables\n",
    "Get-Variable"
   ]
  }
 ],
 "metadata": {
  "kernelspec": {
   "display_name": ".NET (PowerShell)",
   "language": "PowerShell",
   "name": ".net-powershell"
  },
  "language_info": {
   "file_extension": ".ps1",
   "mimetype": "text/x-powershell",
   "name": "PowerShell",
   "pygments_lexer": "powershell",
   "version": "7.0"
  }
 },
 "nbformat": 4,
 "nbformat_minor": 5
}
